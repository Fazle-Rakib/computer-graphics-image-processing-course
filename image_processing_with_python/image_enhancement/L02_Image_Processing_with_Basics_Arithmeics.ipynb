{
  "nbformat": 4,
  "nbformat_minor": 0,
  "metadata": {
    "colab": {
      "provenance": [],
      "collapsed_sections": [
        "16wfvjhPIyW7",
        "jXKwSmi2aZmi",
        "wbyLOL7Xhkee",
        "ukS06eA_hqmB",
        "6wwP6oMkP6of",
        "sfTJQiguwV7U",
        "lcNqy2f-kmfL",
        "0bC1uAv8aFBx",
        "QkOQI3DtDRir",
        "WxPqVdc5DaPZ"
      ]
    },
    "kernelspec": {
      "name": "python3",
      "display_name": "Python 3"
    },
    "language_info": {
      "name": "python"
    }
  },
  "cells": [
    {
      "cell_type": "markdown",
      "source": [
        "<b>Astronomy Dataset:</b> <href>https://www.kaggle.com/datasets/melcore/astronomy-picture-of-the-day</href>\n",
        "\n",
        "<b>Similarity Image Dataset:</b>\n",
        "<href>https://www.kaggle.com/datasets/tanyadayanand/geological-image-similarity</href>\n",
        "\n",
        "<b>Noisy Image Dataset:</b>\n",
        "<href>\n",
        "https://www.kaggle.com/datasets/tenxengineers/denoising-dataset-multiple-iso-levels\n",
        "</href>\n",
        "\n",
        "\n",
        "<b>Cat and dog Dataset:</b>\n",
        "<href>https://www.kaggle.com/datasets/whenamancodes/cat-and-dog-finder</href>\n",
        "\n",
        "<b>Image processing basic notebook:</b>\n",
        "<href>https://www.kaggle.com/code/robikscube/working-with-image-data-in-python</href>\n",
        "\n",
        "<b>Image filter tech:</b>\n",
        "<href>https://www.askpython.com/python-modules/opencv-filter2d</href>\n",
        "\n",
        "\n",
        "<b>OpenCV Doc:</b>\n",
        "<href>https://opencv24-python-tutorials.readthedocs.io/en/latest/</href>\n",
        "\n"
      ],
      "metadata": {
        "id": "yoy2Qn3PqtmF"
      }
    },
    {
      "cell_type": "markdown",
      "source": [
        "# Kaggle dataset to colab"
      ],
      "metadata": {
        "id": "16wfvjhPIyW7"
      }
    },
    {
      "cell_type": "code",
      "execution_count": null,
      "metadata": {
        "id": "KlwSaX9akGfG"
      },
      "outputs": [],
      "source": [
        "! pip install kaggle"
      ]
    },
    {
      "cell_type": "markdown",
      "source": [
        "Mount the Google drive so you can store your kaggle API credentials for future use"
      ],
      "metadata": {
        "id": "rw0DfSAggHED"
      }
    },
    {
      "cell_type": "code",
      "source": [
        "from google.colab import drive\n",
        "drive.mount('/content/drive')"
      ],
      "metadata": {
        "id": "NGineQt7dErh"
      },
      "execution_count": null,
      "outputs": []
    },
    {
      "cell_type": "markdown",
      "source": [
        "Make a directory for kaggle at the temporary instance location on Colab drive.\n",
        "\n",
        "Download your kaggle API key (.json file). You can do this by going to your kaggle account page and clicking 'Create new API token' under the API section."
      ],
      "metadata": {
        "id": "Rvmi3WbigOmT"
      }
    },
    {
      "cell_type": "markdown",
      "source": [],
      "metadata": {
        "id": "vhywUxLXgjBS"
      }
    },
    {
      "cell_type": "code",
      "source": [
        "! mkdir ~/.kaggle"
      ],
      "metadata": {
        "id": "ZTkKggcylXfa"
      },
      "execution_count": null,
      "outputs": []
    },
    {
      "cell_type": "markdown",
      "source": [
        "If you want to copy the kaggle API credentials to the temporary location... (I recommend placing it on your Google Drive)"
      ],
      "metadata": {
        "id": "rKv_7jNggXv7"
      }
    },
    {
      "cell_type": "code",
      "source": [
        "#! cp kaggle.json ~/.kaggle/"
      ],
      "metadata": {
        "id": "DD56NrWmlb5V"
      },
      "execution_count": null,
      "outputs": []
    },
    {
      "cell_type": "markdown",
      "source": [
        "Upload the json file to Google Drive and then copy to the temporary location."
      ],
      "metadata": {
        "id": "p3N4it0xrFmU"
      }
    },
    {
      "cell_type": "code",
      "source": [
        "!cp '/content/drive/MyDrive/Colab Notebooks/kaggle_credentials/kaggle.json' ~/.kaggle/"
      ],
      "metadata": {
        "id": "IQq6ZMyTrEfO"
      },
      "execution_count": null,
      "outputs": []
    },
    {
      "cell_type": "markdown",
      "source": [
        "Change the file permissions to read/write to the owner only"
      ],
      "metadata": {
        "id": "p3dHJgtLehrM"
      }
    },
    {
      "cell_type": "code",
      "source": [
        "! chmod 600 ~/.kaggle/kaggle.json"
      ],
      "metadata": {
        "id": "7ncAtrq2lg5F"
      },
      "execution_count": null,
      "outputs": []
    },
    {
      "cell_type": "markdown",
      "source": [
        "**Competitions and Datasets are the two types of Kaggle data**"
      ],
      "metadata": {
        "id": "Rb3Zm9VMlu3t"
      }
    },
    {
      "cell_type": "code",
      "source": [
        "! mkdir /content/kaggle_data"
      ],
      "metadata": {
        "id": "SJi_kdRP2oNR"
      },
      "execution_count": null,
      "outputs": []
    },
    {
      "cell_type": "code",
      "source": [
        "%%shell\n",
        "ls /\n",
        "if [ ! -d \"/root/.kaggle/kaggle.json\" ]; then\n",
        "  echo \"$DIRECTORY does not exist.\"\n",
        "fi"
      ],
      "metadata": {
        "id": "Ig1vpr8R3x8a"
      },
      "execution_count": null,
      "outputs": []
    },
    {
      "cell_type": "markdown",
      "source": [
        "**1. Download competition data**\n",
        "\n",
        "If you get 403 Forbidden error, you need to click 'Late Submission' on the Kaggle page for that competition."
      ],
      "metadata": {
        "id": "OrdSFfGjl3Ud"
      }
    },
    {
      "cell_type": "markdown",
      "source": [
        "Unzip, in case the downloaded file is zipped. Refresh the files on the left hand side to update the view."
      ],
      "metadata": {
        "id": "fRmXZnHghNAz"
      }
    },
    {
      "cell_type": "code",
      "source": [
        "! kaggle datasets download -p /content/kaggle_data tenxengineers/denoising-dataset-multiple-iso-levels"
      ],
      "metadata": {
        "id": "DHQFHBmeG25N"
      },
      "execution_count": null,
      "outputs": []
    },
    {
      "cell_type": "code",
      "source": [
        "! unzip /content/kaggle_data/denoising-dataset-multiple-iso-levels.zip -d /content/kaggle_data/denoising-dataset-multiple-iso-levels/"
      ],
      "metadata": {
        "id": "dAs9oVnNoziL"
      },
      "execution_count": null,
      "outputs": []
    },
    {
      "cell_type": "code",
      "source": [
        "! kaggle datasets download -p /content/kaggle_data whenamancodes/cat-and-dog-finder"
      ],
      "metadata": {
        "id": "jcGI_td-dZWu"
      },
      "execution_count": null,
      "outputs": []
    },
    {
      "cell_type": "code",
      "source": [
        "! unzip /content/kaggle_data/cat-and-dog-finder.zip -d /content/kaggle_data/cat_dog"
      ],
      "metadata": {
        "id": "20wUm__ddfgp"
      },
      "execution_count": null,
      "outputs": []
    },
    {
      "cell_type": "markdown",
      "source": [
        "#image_io"
      ],
      "metadata": {
        "id": "WEaPSUM5I6EV"
      }
    },
    {
      "cell_type": "markdown",
      "source": [
        "## skimage"
      ],
      "metadata": {
        "id": "jXKwSmi2aZmi"
      }
    },
    {
      "cell_type": "code",
      "source": [
        "from skimage import io"
      ],
      "metadata": {
        "id": "KcFjqO4BI_3A"
      },
      "execution_count": null,
      "outputs": []
    },
    {
      "cell_type": "code",
      "source": [
        "image_1 = io.imread(\"/content/kaggle_data/denoising-dataset-multiple-iso-levels/AlphaISP - Denoising Dataset/AlphaISP - Denoising Dataset/PNG Data/2DNR Denoising/Noised/AlphaISP_2592x1536_8bits_Scene10.png\")"
      ],
      "metadata": {
        "id": "NT4VLeBoJD47"
      },
      "execution_count": null,
      "outputs": []
    },
    {
      "cell_type": "code",
      "source": [
        "image_1"
      ],
      "metadata": {
        "id": "2YDpSG4S-ULx"
      },
      "execution_count": null,
      "outputs": []
    },
    {
      "cell_type": "code",
      "source": [
        "import numpy as np\n",
        "print(np.shape(image_1))"
      ],
      "metadata": {
        "id": "6JKEU8aD-j_s"
      },
      "execution_count": null,
      "outputs": []
    },
    {
      "cell_type": "markdown",
      "source": [
        "## opencv & matplotlib"
      ],
      "metadata": {
        "id": "zPfgYpZ8aj7d"
      }
    },
    {
      "cell_type": "markdown",
      "source": [
        "### Read an image and plot"
      ],
      "metadata": {
        "id": "wbyLOL7Xhkee"
      }
    },
    {
      "cell_type": "code",
      "source": [
        "import cv2\n",
        "import matplotlib.pylab as plt\n",
        "\n",
        "from glob import glob\n",
        "\n",
        "# for later usage\n",
        "import numpy as np"
      ],
      "metadata": {
        "id": "CU-DUl4wawCj"
      },
      "execution_count": null,
      "outputs": []
    },
    {
      "cell_type": "code",
      "source": [
        "# Reading in images from drive path\n",
        "cat_files = glob('./kaggle_data/cat_dog/training_set/training_set/cats/*.jpg')\n",
        "dog_files = glob('./kaggle_data/cat_dog/training_set/training_set/dogs/*.jpg')\n",
        "len(cat_files), len(dog_files), cat_files[1]"
      ],
      "metadata": {
        "id": "XfFyTu26bCYq"
      },
      "execution_count": null,
      "outputs": []
    },
    {
      "cell_type": "code",
      "source": [
        "img_mpl = plt.imread(cat_files[38])\n",
        "img_cv2 = cv2.imread(cat_files[38])\n",
        "img_mpl.shape, img_cv2.shape"
      ],
      "metadata": {
        "id": "djT1fPezfcYB"
      },
      "execution_count": null,
      "outputs": []
    },
    {
      "cell_type": "code",
      "source": [
        "fig, ax = plt.subplots(figsize=(5,5))\n",
        "ax.imshow(img_mpl)\n",
        "ax.axis('off')\n",
        "plt.show()"
      ],
      "metadata": {
        "id": "HSkb687SgPpo"
      },
      "execution_count": null,
      "outputs": []
    },
    {
      "cell_type": "markdown",
      "source": [
        "### Image channels"
      ],
      "metadata": {
        "id": "ukS06eA_hqmB"
      }
    },
    {
      "cell_type": "code",
      "source": [
        "fig, axs = plt.subplots(1, 3, figsize = (10,10))\n",
        "\n",
        "# Splitting RGB Channels\n",
        "r_channel = img_mpl[:,:,0]\n",
        "g_channel = img_mpl[:,:,1]\n",
        "b_channel = img_mpl[:,:,2]\n",
        "\n",
        "axs[0].axis('off')\n",
        "axs[1].axis('off')\n",
        "axs[2].axis('off')\n",
        "\n",
        "axs[0].imshow(r_channel, cmap='Reds')\n",
        "axs[1].imshow(g_channel, cmap='Greens')\n",
        "axs[2].imshow(b_channel, cmap='Blues')\n",
        "\n",
        "axs[0].set_title('Red channel')\n",
        "axs[1].set_title('Green channel')\n",
        "axs[2].set_title('Blue channel')\n",
        "\n",
        "plt.show()"
      ],
      "metadata": {
        "id": "Nabsc4NNhuTZ"
      },
      "execution_count": null,
      "outputs": []
    },
    {
      "cell_type": "markdown",
      "source": [
        "### Comparing matplotlip & cv2 numpy array"
      ],
      "metadata": {
        "id": "6wwP6oMkP6of"
      }
    },
    {
      "cell_type": "code",
      "source": [
        "fig, axs = plt.subplots(1, 2, figsize = (10,10))\n",
        "\n",
        "axs[0].axis('off')\n",
        "axs[1].axis('off')\n",
        "\n",
        "axs[0].imshow(img_cv2)\n",
        "axs[1].imshow(img_mpl)\n",
        "\n",
        "axs[0].set_title('CV2 img')\n",
        "axs[1].set_title('Matplotlib img')\n",
        "\n",
        "plt.show()"
      ],
      "metadata": {
        "id": "jG7KXpFBQBZX"
      },
      "execution_count": null,
      "outputs": []
    },
    {
      "cell_type": "code",
      "source": [
        "# Reason: cv2 by default reads the channels as BGR\n",
        "# whereas matplotlib reads in RGB\n",
        "\n",
        "# Converting the BGR to RGB in CV2\n",
        "img_cv2_gray = cv2.cvtColor(img_cv2, cv2.COLOR_BGR2GRAY)\n",
        "img_cv2_rgb = cv2.cvtColor(img_cv2, cv2.COLOR_BGR2RGB)\n",
        "fig, axs = plt.subplots(1, 3, figsize = (10,10))\n",
        "\n",
        "axs[0].axis('off')\n",
        "axs[1].axis('off')\n",
        "axs[2].axis('off')\n",
        "\n",
        "axs[0].imshow(img_cv2)\n",
        "axs[1].imshow(img_cv2_gray, cmap='gray')\n",
        "axs[2].imshow(img_cv2_rgb, cmap='gray')\n",
        "\n",
        "axs[0].set_title('CV2-BGR')\n",
        "axs[1].set_title('CV2-gray')\n",
        "axs[2].set_title('CV2-RGB')\n",
        "\n",
        "plt.show()"
      ],
      "metadata": {
        "id": "fQtLy6BbRLuq"
      },
      "execution_count": null,
      "outputs": []
    },
    {
      "cell_type": "markdown",
      "source": [
        "# Folder with noisy data"
      ],
      "metadata": {
        "id": "sfTJQiguwV7U"
      }
    },
    {
      "cell_type": "code",
      "source": [
        "import os"
      ],
      "metadata": {
        "id": "QB8wOTXrx_89"
      },
      "execution_count": null,
      "outputs": []
    },
    {
      "cell_type": "code",
      "source": [
        "from matplotlib import pyplot as plt"
      ],
      "metadata": {
        "id": "eHSEHCqSzBsC"
      },
      "execution_count": null,
      "outputs": []
    },
    {
      "cell_type": "code",
      "source": [
        "txt_files = []\n",
        "for root, dirs, files in os.walk(\"/content/kaggle_data/denoising-dataset-multiple-iso-levels/AlphaISP - Denoising Dataset/AlphaISP - Denoising Dataset\"):\n",
        "    for file in files:\n",
        "        if file.endswith(\"AlphaISP_2592x1536_8bits_Scene10.png\"):\n",
        "            txt_files.append(os.path.join(root, file))\n"
      ],
      "metadata": {
        "id": "fRBN6B80wd6d"
      },
      "execution_count": null,
      "outputs": []
    },
    {
      "cell_type": "code",
      "source": [
        "txt_files"
      ],
      "metadata": {
        "id": "hyVEygSezDDU"
      },
      "execution_count": null,
      "outputs": []
    },
    {
      "cell_type": "markdown",
      "source": [],
      "metadata": {
        "id": "UxmRaYTLXzKI"
      }
    },
    {
      "cell_type": "markdown",
      "source": [
        "# Image Enhancement Tech"
      ],
      "metadata": {
        "id": "dgGp0_qsZ-cl"
      }
    },
    {
      "cell_type": "markdown",
      "source": [
        "## Point processing(negative, gamma, log...)"
      ],
      "metadata": {
        "id": "lcNqy2f-kmfL"
      }
    },
    {
      "cell_type": "code",
      "source": [
        "img_cv2_dog = cv2.imread(dog_files[22])\n",
        "img_cv2_dog.shape"
      ],
      "metadata": {
        "id": "T--IkxKEkvTR"
      },
      "execution_count": null,
      "outputs": []
    },
    {
      "cell_type": "code",
      "source": [
        "img_cv2_dog_rgb = cv2.cvtColor(img_cv2_dog, cv2.COLOR_BGR2RGB)"
      ],
      "metadata": {
        "id": "BGcPeqrimMyM"
      },
      "execution_count": null,
      "outputs": []
    },
    {
      "cell_type": "code",
      "source": [
        "fig, axs = plt.subplots(figsize = (5,5))\n",
        "\n",
        "axs.axis('off')\n",
        "# axs.imshow(img_cv2_dog)\n",
        "axs.imshow(img_cv2_dog_rgb)\n",
        "\n",
        "plt.show()"
      ],
      "metadata": {
        "id": "z8gzduLPlDm6"
      },
      "execution_count": null,
      "outputs": []
    },
    {
      "cell_type": "code",
      "source": [
        "img_cv2_dog_gray = cv2.cvtColor(img_cv2_dog, cv2.COLOR_BGR2GRAY)\n",
        "img_cv2_dog_rgb.shape, img_cv2_dog_gray.shape"
      ],
      "metadata": {
        "id": "85ZWaTCmnGls"
      },
      "execution_count": null,
      "outputs": []
    },
    {
      "cell_type": "code",
      "source": [
        "# Step 1: Convert the BGR image to RGB format\n",
        "image_rgb = cv2.cvtColor(img_cv2_dog, cv2.COLOR_BGR2RGB)\n",
        "\n",
        "# Step 2: Convert the BGR image to grayscale\n",
        "gray_image = cv2.cvtColor(img_cv2_dog, cv2.COLOR_BGR2GRAY)\n",
        "\n",
        "# Print the shapes of the images\n",
        "print(f\"Shape of RGB image: {image_rgb.shape}\")  # Should be (height, width, 3)\n",
        "print(f\"Shape of grayscale image: {gray_image.shape}\")  # Should be (height, width)\n",
        "\n",
        "# Print a small portion of the image arrays for inspection\n",
        "print(\"\\nRGB image array (partial view):\")\n",
        "print(image_rgb[0:3, 0:3, :])  # Print top-left 3x3 corner of the RGB image\n",
        "\n",
        "print(\"\\nGrayscale image array (partial view):\")\n",
        "print(gray_image[0:3, 0:3])  # Print top-left 3x3 corner of the grayscale image\n",
        "\n",
        "# Display the images with annotated shape information\n",
        "plt.figure(figsize=(15, 5))\n",
        "\n",
        "# Display RGB Image\n",
        "plt.subplot(1, 2, 1)\n",
        "plt.title(f'RGB Image\\nShape: {image_rgb.shape}')\n",
        "plt.imshow(image_rgb)\n",
        "plt.xlabel('Width')\n",
        "plt.ylabel('Height')\n",
        "plt.grid(True)\n",
        "\n",
        "# Display Grayscale Image\n",
        "plt.subplot(1, 2, 2)\n",
        "plt.title(f'Grayscale Image\\nShape: {gray_image.shape}')\n",
        "plt.imshow(gray_image, cmap='gray')\n",
        "plt.xlabel('Width')\n",
        "plt.ylabel('Height')\n",
        "plt.grid(True)\n",
        "\n",
        "plt.show()"
      ],
      "metadata": {
        "id": "9mZj9EDnoug6"
      },
      "execution_count": null,
      "outputs": []
    },
    {
      "cell_type": "code",
      "source": [
        "# Step 3: Find the maximum value in the grayscale image\n",
        "max_value = np.max(gray_image)\n",
        "print(f\"Maximum pixel value in the grayscale image: {max_value}\")\n",
        "\n",
        "# Step 4: Convert the grayscale image to its negative\n",
        "negative_image = max_value - gray_image\n",
        "\n",
        "# Step 4: Display the images with annotated shape information\n",
        "plt.figure(figsize=(15, 5))\n",
        "\n",
        "# Display Gray Image\n",
        "plt.subplot(1, 2, 1)\n",
        "plt.title(f'Gray Image\\nShape: {gray_image.shape}')\n",
        "plt.imshow(gray_image, cmap='gray')\n",
        "plt.xlabel('Width')\n",
        "plt.ylabel('Height')\n",
        "plt.grid(True)\n",
        "\n",
        "# Display negative_image Image\n",
        "plt.subplot(1, 2, 2)\n",
        "plt.title(f'Negative Image\\nShape: {negative_image.shape}')\n",
        "plt.imshow(negative_image, cmap='gray')\n",
        "plt.xlabel('Width')\n",
        "plt.ylabel('Height')\n",
        "plt.grid(True)\n",
        "\n",
        "plt.show()"
      ],
      "metadata": {
        "id": "1i8S35wonPxU"
      },
      "execution_count": null,
      "outputs": []
    },
    {
      "cell_type": "markdown",
      "source": [
        "## Filtering(Smoothening & Sharpening)"
      ],
      "metadata": {
        "id": "0bC1uAv8aFBx"
      }
    },
    {
      "cell_type": "code",
      "source": [
        "img_cv2_dog = cv2.imread(dog_files[53])\n",
        "img_cv2_dog_rgb = cv2.cvtColor(img_cv2_dog, cv2.COLOR_BGR2RGB)\n",
        "img_cv2_dog.shape"
      ],
      "metadata": {
        "id": "bL-ruynvAQOr"
      },
      "execution_count": null,
      "outputs": []
    },
    {
      "cell_type": "markdown",
      "source": [
        "## Identity Kernel"
      ],
      "metadata": {
        "id": "QkOQI3DtDRir"
      }
    },
    {
      "cell_type": "code",
      "source": [
        "identity_kernel = np.array([[0,0,0],\n",
        "                            [0,1,0],\n",
        "                            [0,0,0]])\n",
        "identity_img = cv2.filter2D(img_cv2_dog_rgb, -1, identity_kernel)"
      ],
      "metadata": {
        "id": "tZ7TDop7C_bC"
      },
      "execution_count": null,
      "outputs": []
    },
    {
      "cell_type": "code",
      "source": [
        "fig, axs = plt.subplots(1, 2, figsize = (10,10))\n",
        "\n",
        "axs[0].axis('off')\n",
        "axs[1].axis('off')\n",
        "\n",
        "axs[0].imshow(img_cv2_dog_rgb)\n",
        "axs[1].imshow(identity_img)\n",
        "\n",
        "axs[0].set_title('Real img')\n",
        "axs[1].set_title('Identity filter img')\n",
        "\n",
        "plt.show()"
      ],
      "metadata": {
        "id": "XRGTSfu_DQpE"
      },
      "execution_count": null,
      "outputs": []
    },
    {
      "cell_type": "markdown",
      "source": [
        "## Laplacian Kernel"
      ],
      "metadata": {
        "id": "WxPqVdc5DaPZ"
      }
    },
    {
      "cell_type": "code",
      "source": [
        "laplacian_kernel = np.array([[1,1,1],\n",
        "                            [1,-8,1],\n",
        "                            [1,1,1]])\n",
        "laplacian_filtered_img = cv2.filter2D(img_cv2_dog_rgb, -1, laplacian_kernel)"
      ],
      "metadata": {
        "id": "DvYwPUzcaMu_"
      },
      "execution_count": null,
      "outputs": []
    },
    {
      "cell_type": "code",
      "source": [
        "# Print a small portion of the image arrays for inspection\n",
        "print(\"\\nRGB image array (partial view):\")\n",
        "print(img_cv2_dog_rgb[0:3, 0:3, :])  # Print top-left 3x3 corner of the RGB image\n",
        "\n",
        "print(\"\\nGrayscale image array (partial view):\")\n",
        "print(laplacian_filtered_img[0:3, 0:3, :])  # Print top-left 3x3 corner of the grayscale image"
      ],
      "metadata": {
        "id": "6MUICd-ZA2_G"
      },
      "execution_count": null,
      "outputs": []
    },
    {
      "cell_type": "code",
      "source": [
        "fig, axs = plt.subplots(1, 2, figsize = (10,10))\n",
        "\n",
        "axs[0].axis('off')\n",
        "axs[1].axis('off')\n",
        "\n",
        "axs[0].imshow(img_cv2_dog_rgb)\n",
        "axs[1].imshow(laplacian_filtered_img)\n",
        "\n",
        "axs[0].set_title('Real img')\n",
        "axs[1].set_title('Laplacian filter img')\n",
        "\n",
        "plt.show()"
      ],
      "metadata": {
        "id": "CBvM0csCAv-q"
      },
      "execution_count": null,
      "outputs": []
    },
    {
      "cell_type": "code",
      "source": [
        "# Subtracting the 2nd derivatives of the kernel from laplacian\n",
        "simplified_kernel = identity_kernel - laplacian_kernel\n",
        "simplified_kernel"
      ],
      "metadata": {
        "id": "t7etLcbYB8xk"
      },
      "execution_count": null,
      "outputs": []
    },
    {
      "cell_type": "code",
      "source": [
        "simplified_kernel_filtered_img = cv2.filter2D(img_cv2_dog_rgb, -1, simplified_kernel)"
      ],
      "metadata": {
        "id": "fZvayNJMD5AW"
      },
      "execution_count": null,
      "outputs": []
    },
    {
      "cell_type": "code",
      "source": [
        "fig, axs = plt.subplots(1, 3, figsize = (10,10))\n",
        "\n",
        "axs[0].axis('off')\n",
        "axs[1].axis('off')\n",
        "axs[2].axis('off')\n",
        "\n",
        "axs[0].imshow(img_cv2_dog_rgb)\n",
        "axs[1].imshow(laplacian_filtered_img)\n",
        "axs[2].imshow(simplified_kernel_filtered_img)\n",
        "\n",
        "axs[0].set_title('Real img')\n",
        "axs[1].set_title('Laplacian filter img')\n",
        "axs[2].set_title('Sharpen img')\n",
        "\n",
        "plt.show()"
      ],
      "metadata": {
        "id": "lj_ahYe2CPoC"
      },
      "execution_count": null,
      "outputs": []
    }
  ]
}